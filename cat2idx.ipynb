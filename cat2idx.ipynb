{
 "cells": [
  {
   "cell_type": "markdown",
   "metadata": {},
   "source": [
    "```python\n",
    "\n",
    "# This notebook demonstrate encode categorical variable into numeric values\n",
    "# by the category itself and the rank of the count of that category\n",
    "\n",
    ">>> raw_data = [\n",
    "  ['A', ],\n",
    "  ['A', ],\n",
    "  ['B', ],\n",
    "  ['C', ]\n",
    "]\n",
    "\n",
    ">>> df = spark.createDataFrame(data=raw_data, schema=['c'])\n",
    ">>> df.show()\n",
    "```\n",
    "---\n",
    "\n",
    "```\n",
    "+---+\n",
    "|  c|\n",
    "+---+\n",
    "|  A|\n",
    "|  A|\n",
    "|  B|\n",
    "|  C|\n",
    "+---+\n",
    "```\n",
    "\n",
    "---\n",
    "```python\n",
    ">>> cnt_threshold = 1\n",
    "\n",
    ">>> df = df.withColumn('cnt',    F.count('c').over(Window.partitionBy('c'))) \\\n",
    "           .withColumn('encode', F.dense_rank().over(Window.orderBy('c', F.desc('cnt'))) - 1) \\ # minus 1: 0-based\n",
    "           .withColumn('encode', F.when(F.col('cnt') > cnt_threshold, F.col('encode')).otherwise(None)) \n",
    "\n",
    ">>> df.show()\n",
    "```\n",
    "---\n",
    "\n",
    "```\n",
    "+---+---+------+\n",
    "|  c|cnt|encode|\n",
    "+---+---+------+\n",
    "|  A|  2|     0|\n",
    "|  A|  2|     0|\n",
    "|  B|  1|  null|\n",
    "|  C|  1|  null|\n",
    "+---+---+------+\n",
    "```"
   ]
  },
  {
   "cell_type": "code",
   "execution_count": null,
   "metadata": {},
   "outputs": [],
   "source": []
  }
 ],
 "metadata": {
  "kernelspec": {
   "display_name": "Python 3",
   "language": "python",
   "name": "python3"
  },
  "language_info": {
   "codemirror_mode": {
    "name": "ipython",
    "version": 3
   },
   "file_extension": ".py",
   "mimetype": "text/x-python",
   "name": "python",
   "nbconvert_exporter": "python",
   "pygments_lexer": "ipython3",
   "version": "3.8.5"
  }
 },
 "nbformat": 4,
 "nbformat_minor": 4
}
